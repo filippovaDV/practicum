{
 "cells": [
  {
   "cell_type": "code",
   "execution_count": 1,
   "metadata": {},
   "outputs": [
    {
     "name": "stderr",
     "output_type": "stream",
     "text": [
      "/opt/anaconda3/lib/python3.8/site-packages/sklearn/utils/deprecation.py:143: FutureWarning: The sklearn.feature_extraction.stop_words module is  deprecated in version 0.22 and will be removed in version 0.24. The corresponding classes / functions should instead be imported from sklearn.feature_extraction.text. Anything that cannot be imported from sklearn.feature_extraction.text is now part of the private API.\n",
      "  warnings.warn(message, FutureWarning)\n"
     ]
    },
    {
     "name": "stdout",
     "output_type": "stream",
     "text": [
      "(11314, 10299)\n",
      "480590\n"
     ]
    }
   ],
   "source": [
    "import numpy as np\n",
    "from sklearn.datasets import fetch_20newsgroups\n",
    "from sklearn.feature_extraction.text import CountVectorizer\n",
    "from sklearn.feature_extraction.stop_words import ENGLISH_STOP_WORDS\n",
    "\n",
    "newsgroups_train = fetch_20newsgroups(subset='train', remove=('headers', 'footers', 'quotes'))\n",
    "vectorizer = CountVectorizer(lowercase=True, stop_words=ENGLISH_STOP_WORDS,analyzer='word', \n",
    "                             binary=True,min_df=10, max_df=.04)\n",
    "X_train = vectorizer.fit_transform(newsgroups_train.data)\n",
    "\n",
    "X_train.toarray()\n",
    "docs,words=X_train.nonzero() \n",
    "print(X_train.shape) #(11314, 10299)\n",
    "print(len(docs)) #it is N=480590"
   ]
  },
  {
   "cell_type": "code",
   "execution_count": 2,
   "metadata": {},
   "outputs": [
    {
     "name": "stdout",
     "output_type": "stream",
     "text": [
      "[1. 1. 1. 1. 1. 1. 1. 1. 1. 1.]\n"
     ]
    }
   ],
   "source": [
    "import numpy as np\n",
    "from tqdm import tqdm\n",
    "M=11314 #amount of texts\n",
    "W=10299 #amount of different words\n",
    "N=480590#total amount of words in the corpus\n",
    "K=20 #amount of tags\n",
    "NITER=50\n",
    "\n",
    "\n",
    "def lda(X_train,alpha,beta,NITER):\n",
    "    X=X_train.toarray()\n",
    "    docs,words=X.nonzero() #print(len(docs)) #it is N=480590\n",
    "    z=[np.random.choice(K) for i in range(N)] #randomly assign tags to all words in the corpus\n",
    "    \n",
    "    n_dk=np.zeros(M*K).reshape(M,K) #amount of words in document d assigned to tag k\n",
    "    n_kw=np.zeros(K*W).reshape(K,W) #amount of times word w was assigned to tag k\n",
    "    n_k=np.zeros(K) #total amount of words assigned to tag k\n",
    "    \n",
    "    for doc, word, cur_z in zip(docs, words, z):\n",
    "        n_dk[doc, cur_z] += 1\n",
    "        n_kw[cur_z, word] += 1\n",
    "        n_k[cur_z] += 1\n",
    "        \n",
    "    for tek_iter in tqdm(range(NITER)):\n",
    "        for i in range(N):\n",
    "            n_dk[docs[i],z[i]]-=1\n",
    "            n_kw[z[i],words[i]]-=1\n",
    "            n_k[z[i]]-=1\n",
    "            p = (n_dk[docs[i], :] + alpha) * (n_kw[:, words[i]] + beta[words[i]]) / (n_k + beta.sum())\n",
    "            z[i] = np.random.choice(np.arange(K), p=p / p.sum())\n",
    "            \n",
    "            n_dk[docs[i],z[i]]+=1\n",
    "            n_kw[z[i],words[i]]+=1\n",
    "            n_k[z[i]]+=1\n",
    "    return  n_kw\n",
    "\n",
    "alpha=np.ones(K)\n",
    "beta=np.ones(W)\n",
    "\n",
    "\n",
    "print(alpha[0:10])"
   ]
  },
  {
   "cell_type": "code",
   "execution_count": 3,
   "metadata": {},
   "outputs": [
    {
     "name": "stderr",
     "output_type": "stream",
     "text": [
      "100%|██████████| 50/50 [23:19<00:00, 27.99s/it]\n"
     ]
    }
   ],
   "source": [
    "n_kw=lda(X_train,alpha,beta,NITER)\n",
    "#print(n_kw)"
   ]
  },
  {
   "cell_type": "code",
   "execution_count": 4,
   "metadata": {},
   "outputs": [
    {
     "name": "stdout",
     "output_type": "stream",
     "text": [
      "tag= 0 soon gordon medical banks pitt usually surrender disease cause geb \n",
      "\n",
      "tag= 1 knows sorry stuff guess similar deleted interesting current answer couldn \n",
      "\n",
      "tag= 2 bike ride dod road left difference hand riding likely motorcycle \n",
      "\n",
      "tag= 3 gun law crime control guns laws weapons police self likely \n",
      "\n",
      "tag= 4 went told started days saw took came happened left asked \n",
      "\n",
      "tag= 5 appreciated info anybody posting thank net answer sorry wondering check \n",
      "\n",
      "tag= 6 space nasa research earth science university project low center orbit \n",
      "\n",
      "tag= 7 israel country war rights jews israeli american anti land military \n",
      "\n",
      "tag= 8 card pc computer hi memory disk video dos mac monitor \n",
      "\n",
      "tag= 9 jesus christian bible man christians religion word christ saying claim \n",
      "\n",
      "tag= 10 experience recently correct apparently couple current small add reading article \n",
      "\n",
      "tag= 11 game team games play season players league win 11 12 \n",
      "\n",
      "tag= 12 advance wanted cheers david reading interesting small reply news open \n",
      "\n",
      "tag= 13 turkish today armenian armenians million serdar argic source history children \n",
      "\n",
      "tag= 14 hi 14 mr 40 tm al 24 34 ma mi \n",
      "\n",
      "tag= 15 guess oh sounds stuff haven nice deleted ideas thinking recall \n",
      "\n",
      "tag= 16 file code window ftp files application version user running server \n",
      "\n",
      "tag= 17 guess sorry ok gets food cause eat oh add lots \n",
      "\n",
      "tag= 18 car sale price sell offer condition buy 100 shipping cost \n",
      "\n",
      "tag= 19 key public encryption keys clipper chip security phone secure technology \n",
      "\n"
     ]
    }
   ],
   "source": [
    "n_kw_sorted=np.argsort(n_kw, axis=1)\n",
    "#print(vectorizer.vocabulary_.get('car'))\n",
    "#print(type(vectorizer.vocabulary_))\n",
    "\n",
    "my_dict={}\n",
    "for item in vectorizer.vocabulary_:\n",
    "    my_dict[vectorizer.vocabulary_[item]]=item\n",
    "\n",
    "for k in range(K):\n",
    "    print(\"tag=\",k,end=\" \")\n",
    "    for j in range(10):\n",
    "        print(my_dict[n_kw_sorted[k,W-1-j]],end=\" \")\n",
    "    print(\"\\n\")"
   ]
  },
  {
   "cell_type": "code",
   "execution_count": null,
   "metadata": {},
   "outputs": [],
   "source": []
  }
 ],
 "metadata": {
  "kernelspec": {
   "display_name": "Python 3",
   "language": "python",
   "name": "python3"
  },
  "language_info": {
   "codemirror_mode": {
    "name": "ipython",
    "version": 3
   },
   "file_extension": ".py",
   "mimetype": "text/x-python",
   "name": "python",
   "nbconvert_exporter": "python",
   "pygments_lexer": "ipython3",
   "version": "3.8.3"
  }
 },
 "nbformat": 4,
 "nbformat_minor": 4
}
