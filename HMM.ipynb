{
 "cells": [
  {
   "cell_type": "code",
   "execution_count": 103,
   "metadata": {},
   "outputs": [],
   "source": [
    "import numpy as np"
   ]
  },
  {
   "cell_type": "code",
   "execution_count": 104,
   "metadata": {},
   "outputs": [],
   "source": [
    "A =  np.array([[0.6, 0.4],\n",
    "               [0.5, 0.5]])\n",
    "B =  np.array([[0.2, 0.4, 0.4], \n",
    "               [0.5, 0.4, 0.1]])\n",
    "pi =  np.array([0.8, 0.2])"
   ]
  },
  {
   "cell_type": "code",
   "execution_count": 105,
   "metadata": {},
   "outputs": [],
   "source": [
    "M = 2 #количество скрытых состояний\n",
    "T = 25\n",
    "x =  np.array([1,3,3,2,3,3,3,2,1,2,1,1,3,2,3,2,2,1,3,3,1,1,1,2,1])"
   ]
  },
  {
   "cell_type": "code",
   "execution_count": 106,
   "metadata": {},
   "outputs": [],
   "source": [
    "alpha = np.zeros((T, M))\n",
    "alpha[0] = pi*B[:, x[0]-1]"
   ]
  },
  {
   "cell_type": "code",
   "execution_count": 107,
   "metadata": {},
   "outputs": [
    {
     "name": "stdout",
     "output_type": "stream",
     "text": [
      "Вероятность реализации исхода:  4.978300204739012e-13\n"
     ]
    }
   ],
   "source": [
    "for t in range(1, T):\n",
    "    alpha[t] = (alpha[t-1].dot(A)) * B[:, x[t]-1]\n",
    "\n",
    "print(\"Вероятность реализации исхода: \", alpha[-1].sum())"
   ]
  },
  {
   "cell_type": "code",
   "execution_count": 108,
   "metadata": {},
   "outputs": [],
   "source": [
    "delta = np.zeros((T, M))\n",
    "psi = np.zeros((T, M))"
   ]
  },
  {
   "cell_type": "code",
   "execution_count": 109,
   "metadata": {},
   "outputs": [],
   "source": [
    "delta[0] = pi*B[:,x[0]-1]"
   ]
  },
  {
   "cell_type": "code",
   "execution_count": 110,
   "metadata": {},
   "outputs": [],
   "source": [
    "for t in range(1, T):\n",
    "    for j in range(M):\n",
    "        delta[t,j] = np.max(delta[t-1]*A[:,j]) * B[j, x[t]-1]\n",
    "        psi[t,j] = np.argmax(delta[t-1]*A[:,j])"
   ]
  },
  {
   "cell_type": "code",
   "execution_count": 111,
   "metadata": {},
   "outputs": [
    {
     "name": "stdout",
     "output_type": "stream",
     "text": [
      "Наиболее вероятная последовательность скрытых состояний\n",
      "[1 1 1 1 1 1 1 1 2 2 2 2 1 1 1 1 1 2 1 1 2 2 2 2 2]\n"
     ]
    }
   ],
   "source": [
    "# backtrack\n",
    "states = np.zeros(T, dtype=np.int32)\n",
    "states[T-1] = np.argmax(delta[T-1])\n",
    "for t in range(T-2, -1, -1):\n",
    "    states[t] = psi[t+1, states[t+1]]\n",
    "    \n",
    "print(\"Наиболее вероятная последовательность скрытых состояний\")\n",
    "print(states+1)"
   ]
  }
 ],
 "metadata": {
  "kernelspec": {
   "display_name": "Python 3",
   "language": "python",
   "name": "python3"
  },
  "language_info": {
   "codemirror_mode": {
    "name": "ipython",
    "version": 3
   },
   "file_extension": ".py",
   "mimetype": "text/x-python",
   "name": "python",
   "nbconvert_exporter": "python",
   "pygments_lexer": "ipython3",
   "version": "3.8.3"
  }
 },
 "nbformat": 4,
 "nbformat_minor": 4
}
