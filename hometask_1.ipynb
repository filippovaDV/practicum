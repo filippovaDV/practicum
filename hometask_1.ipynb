{
 "cells": [
  {
   "cell_type": "code",
   "execution_count": 4,
   "metadata": {},
   "outputs": [],
   "source": [
    "class Test:\n",
    "    @staticmethod\n",
    "    def assert_equals(a, b, *args, **kwargs):\n",
    "        assert a == b\n",
    "        print('Passed')"
   ]
  },
  {
   "cell_type": "code",
   "execution_count": 10,
   "metadata": {},
   "outputs": [
    {
     "name": "stdout",
     "output_type": "stream",
     "text": [
      "in... in... increasing\n",
      "in... in... increasing?\n",
      "in... in... increasing\n",
      "Passed\n",
      "ad... ad... adventures\n",
      "Passed\n",
      "en... en... enticing\n",
      "Passed\n",
      "un... un... unacceptable\n",
      "Passed\n",
      "ac... ac... accountable\n",
      "Passed\n",
      "in... in... incredible\n",
      "Passed\n",
      "ex... ex... exquisite\n",
      "Passed\n",
      "am... am... am\n",
      "Passed\n",
      "en... en... enduring\n",
      "Passed\n",
      "ou... ou... outstanding\n",
      "Passed\n"
     ]
    }
   ],
   "source": [
    "# 2\n",
    "def stutter(word):\n",
    "    return (word[0:2]+\"... \"+word[0:2]+\"... \"+word+\"?\")\n",
    "\n",
    "words, sts = [\n",
    "\t\"increasing\",\n",
    "\t\"adventures\",\n",
    "\t\"enticing\",\n",
    "\t\"unacceptable\",\n",
    "\t\"accountable\",\n",
    "\t\"incredible\",\n",
    "\t\"exquisite\",\n",
    "\t\"am\",\n",
    "\t\"enduring\",\n",
    "\t\"outstanding\"\n",
    "], [\n",
    "\t\"in... in... increasing?\",\n",
    "\t\"ad... ad... adventures?\",\n",
    "\t\"en... en... enticing?\",\n",
    "\t\"un... un... unacceptable?\",\n",
    "\t\"ac... ac... accountable?\",\n",
    "\t\"in... in... incredible?\",\n",
    "\t\"ex... ex... exquisite?\",\n",
    "\t\"am... am... am?\",\n",
    "\t\"en... en... enduring?\",\n",
    "\t\"ou... ou... outstanding?\"\n",
    "]\n",
    "\n",
    "for i, w in enumerate(words):\n",
    "\tTest.assert_equals(stutter(w), sts[i])"
   ]
  },
  {
   "cell_type": "code",
   "execution_count": 13,
   "metadata": {},
   "outputs": [
    {
     "name": "stdout",
     "output_type": "stream",
     "text": [
      "Passed\n",
      "Passed\n",
      "Passed\n",
      "Passed\n",
      "Passed\n",
      "Passed\n",
      "Passed\n",
      "Passed\n",
      "Passed\n"
     ]
    }
   ],
   "source": [
    "# 2\n",
    "def is_curzon(num):\n",
    "    a = 2**num+1\n",
    "    b = 2*num+1\n",
    "    if (a%b==0):\n",
    "        return True\n",
    "    else:\n",
    "        return False\n",
    "    \n",
    "Test.assert_equals(is_curzon(5), True)\n",
    "Test.assert_equals(is_curzon(10), False)\n",
    "Test.assert_equals(is_curzon(14), True)\n",
    "Test.assert_equals(is_curzon(86), True)\n",
    "Test.assert_equals(is_curzon(90), True)\n",
    "Test.assert_equals(is_curzon(115), False)\n",
    "Test.assert_equals(is_curzon(120), False)\n",
    "Test.assert_equals(is_curzon(194), True)\n",
    "Test.assert_equals(is_curzon(293), True)"
   ]
  },
  {
   "cell_type": "code",
   "execution_count": 16,
   "metadata": {},
   "outputs": [
    {
     "name": "stdout",
     "output_type": "stream",
     "text": [
      "Passed\n",
      "Passed\n",
      "Passed\n",
      "Passed\n"
     ]
    }
   ],
   "source": [
    "# 2\n",
    "def relation_to_luke(name):\n",
    "    m = {}\n",
    "    m[\"Darth Vader\"] = \"father\"\n",
    "    m[\"Leia\"] = \"sister\"\n",
    "    m[\"Han\"] = \"brother in law\"\n",
    "    m[\"R2D2\"] = \"droid\"\n",
    "    return \"Luke, I am your \"+m[name]+\".\"\n",
    "\n",
    "Test.assert_equals(relation_to_luke(\"Darth Vader\"), \"Luke, I am your father.\")\n",
    "Test.assert_equals(relation_to_luke(\"Leia\"), \"Luke, I am your sister.\")\n",
    "Test.assert_equals(relation_to_luke(\"Han\"), \"Luke, I am your brother in law.\")\n",
    "Test.assert_equals(relation_to_luke(\"R2D2\"), \"Luke, I am your droid.\")"
   ]
  },
  {
   "cell_type": "code",
   "execution_count": 19,
   "metadata": {},
   "outputs": [
    {
     "name": "stdout",
     "output_type": "stream",
     "text": [
      "Passed\n",
      "Passed\n",
      "Passed\n",
      "Passed\n",
      "Passed\n"
     ]
    }
   ],
   "source": [
    "# 3\n",
    "def fizz_buzz(num):\n",
    "    if (num % 3 == 0):\n",
    "        if (num % 5 == 0): \n",
    "            return \"FizzBuzz\"\n",
    "        else:\n",
    "            return \"Fizz\" \n",
    "    elif (num % 5 == 0):\n",
    "        return \"Buzz\"\n",
    "    else:\n",
    "        return str(num)\n",
    "        \n",
    "Test.assert_equals(fizz_buzz(3), \"Fizz\", \"You gave \" + fizz_buzz(3) + \" and Fizz was needed\")\n",
    "Test.assert_equals(fizz_buzz(5), \"Buzz\", \"You gave \" + fizz_buzz(5) + \" and Buzz was needed\")\n",
    "Test.assert_equals(fizz_buzz(15), \"FizzBuzz\", \"You gave \" + fizz_buzz(15) + \" and FizzBuzz was needed\")\n",
    "Test.assert_equals(fizz_buzz(10), \"Buzz\", \"You gave \" + fizz_buzz(10) + \" and Buzz was needed\")\n",
    "Test.assert_equals(fizz_buzz(98), \"98\", \"You gave \" + fizz_buzz(98) + \" and 98 was needed\")"
   ]
  },
  {
   "cell_type": "code",
   "execution_count": 20,
   "metadata": {},
   "outputs": [
    {
     "name": "stdout",
     "output_type": "stream",
     "text": [
      "Passed\n",
      "Passed\n",
      "Passed\n",
      "Passed\n",
      "Passed\n",
      "Passed\n",
      "Passed\n"
     ]
    }
   ],
   "source": [
    "# 3\n",
    "def fact(n):\n",
    "    res = 1; \n",
    "    for i in range(1, n+1):\n",
    "        res *= i\n",
    "    return res\n",
    "    \n",
    "Test.assert_equals(fact(0), 1)\n",
    "Test.assert_equals(fact(1), 1)\n",
    "Test.assert_equals(fact(2), 2)\n",
    "Test.assert_equals(fact(3), 6)\n",
    "Test.assert_equals(fact(7), 5040)\n",
    "Test.assert_equals(fact(9), 362880)\n",
    "Test.assert_equals(fact(15), 1307674368000)"
   ]
  },
  {
   "cell_type": "code",
   "execution_count": 34,
   "metadata": {},
   "outputs": [
    {
     "name": "stdout",
     "output_type": "stream",
     "text": [
      "Passed\n",
      "Passed\n",
      "Passed\n",
      "Passed\n",
      "Passed\n",
      "Passed\n",
      "Passed\n",
      "Passed\n",
      "Passed\n",
      "Passed\n"
     ]
    }
   ],
   "source": [
    "# 3\n",
    "def profit(info):\n",
    "    return round((info[\"sell_price\"] - info[\"cost_price\"]) * info[\"inventory\"])\n",
    "\n",
    "    \n",
    "Test.assert_equals(profit({'cost_price': 32.67, 'sell_price': 45.00, 'inventory': 1200}), 14796)\n",
    "Test.assert_equals(profit({'cost_price': 0.1, 'sell_price': 0.18, 'inventory': 259800}), 20784)\n",
    "Test.assert_equals(profit({'cost_price': 185.00, 'sell_price': 299.99, 'inventory': 300}), 34497)\n",
    "Test.assert_equals(profit({'cost_price': 378.11, 'sell_price': 990.00, 'inventory': 99}), 60577)\n",
    "Test.assert_equals(profit({'cost_price': 4.67, 'sell_price': 5.00, 'inventory': 78000}), 25740)\n",
    "Test.assert_equals(profit({'cost_price': 19.87, 'sell_price': 110.00, 'inventory': 350}), 31546)\n",
    "Test.assert_equals(profit({'cost_price': 2.91, 'sell_price': 4.50, 'inventory': 6000}), 9540)\n",
    "Test.assert_equals(profit({'cost_price': 68.01, 'sell_price': 149.99, 'inventory': 500}), 40990)\n",
    "Test.assert_equals(profit({'cost_price': 1.45, 'sell_price': 8.50, 'inventory': 10000}), 70500)\n",
    "Test.assert_equals(profit({'cost_price': 10780, 'sell_price': 34999, 'inventory': 10}), 242190)"
   ]
  },
  {
   "cell_type": "code",
   "execution_count": null,
   "metadata": {},
   "outputs": [],
   "source": []
  }
 ],
 "metadata": {
  "kernelspec": {
   "display_name": "Python 3",
   "language": "python",
   "name": "python3"
  },
  "language_info": {
   "codemirror_mode": {
    "name": "ipython",
    "version": 3
   },
   "file_extension": ".py",
   "mimetype": "text/x-python",
   "name": "python",
   "nbconvert_exporter": "python",
   "pygments_lexer": "ipython3",
   "version": "3.8.3"
  }
 },
 "nbformat": 4,
 "nbformat_minor": 4
}
